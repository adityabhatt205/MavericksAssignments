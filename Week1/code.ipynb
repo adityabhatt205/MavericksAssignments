{
 "cells": [
  {
   "cell_type": "code",
   "execution_count": 4,
   "metadata": {},
   "outputs": [],
   "source": [
    "import csv\n",
    "import matplotlib.pyplot as plt\n",
    "from scipy import stats"
   ]
  },
  {
   "cell_type": "code",
   "execution_count": 5,
   "metadata": {},
   "outputs": [],
   "source": [
    "# Importing data and preparing to use\n",
    "file  = r\"data\\data.csv\"\n",
    "\n",
    "with open(file, 'r') as f:\n",
    "  list_df = list(csv.reader(f))\n",
    "  data = []\n",
    "  for i in range(1, len(list_df)):\n",
    "    data.append(list([float(list_df[i][0]), float(list_df[i][1]), float(list_df[i][2]), float(list_df[i][3]), float(list_df[i][4])]))\n",
    "\n",
    "dataFields = [\"Price\", \"Bedrooms\", \"Bathrooms\", \"Area\", \"Built Year\"]"
   ]
  },
  {
   "cell_type": "code",
   "execution_count": 6,
   "metadata": {},
   "outputs": [
    {
     "name": "stdout",
     "output_type": "stream",
     "text": [
      "Correlation of data: 50.25896606049096\n",
      "Predicted Price for Bathrooms = 15000 is 2921178563\n",
      "\n",
      "\n"
     ]
    },
    {
     "data": {
      "image/png": "[encoded data removed]",
      "text/plain": [
       "<Figure size 640x480 with 1 Axes>"
      ]
     },
     "metadata": {},
     "output_type": "display_data"
    }
   ],
   "source": [
    "# Plotting the data, and predicting the values\n",
    "#   Data Structure: price(0), bedrooms(1), bathrooms(2), sqft_area(3), year_built(4)\n",
    "label, X, Y = 0, [], []\n",
    "\n",
    "feature = int(input(f\"Enter the field to plot the graph:\\n\\t1:\\t{dataFields[1]} \\n\\t2:\\t{dataFields[2]} \\n\\t3:\\t{dataFields[3]} \\n\\t4:\\t{dataFields[4]}\\nYour input:\\t\"))\n",
    "\n",
    "# Preparing X and Y axis to plot\n",
    "for record in data:\n",
    "  X.append(record[feature])\n",
    "  Y.append(record[label])\n",
    "\n",
    "# Plotting and axis\n",
    "plt.xlabel(dataFields[feature])\n",
    "plt.ylabel(dataFields[label])\n",
    "plt.plot(X, Y, 'bo')\n",
    "\n",
    "# Calculating slope, intercept and other data using scipy.stats.linregress(), and plotting a line\n",
    "slope, intercept, r, p, se = stats.linregress(X, Y)\n",
    "line_X = [min(X), max(X)]\n",
    "line_Y = [slope*min(X) + intercept, slope*max(X) + intercept]\n",
    "plt.plot(line_X, line_Y, 'r')\n",
    "\n",
    "# Predicting Values\n",
    "print(f\"Correlation of data: {r*100}\")\n",
    "x = int(input(f\"\\nPredicting {dataFields[label]} on the basis of {dataFields[feature]}\\nEnter Value for {dataFields[feature]}:\\t\"))\n",
    "y = int(slope*x + intercept)\n",
    "plt.plot(x, y, 'yo')\n",
    "print(f\"Predicted {dataFields[label]} for {dataFields[feature]} = {x} is {y}\\n\\n\")\n",
    "\n",
    "\n",
    "plt.show()"
   ]
  },
  {
   "cell_type": "code",
   "execution_count": null,
   "metadata": {},
   "outputs": [],
   "source": []
  }
 ],
 "metadata": {
  "kernelspec": {
   "display_name": "Python 3",
   "language": "python",
   "name": "python3"
  },
  "language_info": {
   "codemirror_mode": {
    "name": "ipython",
    "version": 3
   },
   "file_extension": ".py",
   "mimetype": "text/x-python",
   "name": "python",
   "nbconvert_exporter": "python",
   "pygments_lexer": "ipython3",
   "version": "3.12.0"
  }
 },
 "nbformat": 4,
 "nbformat_minor": 2
}
