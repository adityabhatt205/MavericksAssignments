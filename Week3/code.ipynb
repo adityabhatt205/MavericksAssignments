{
 "cells": [
  {
   "cell_type": "code",
   "execution_count": 1,
   "metadata": {},
   "outputs": [],
   "source": [
    "import pandas as pd, matplotlib.pyplot as plt, numpy as np\n",
    "from sklearn import linear_model\n",
    "from sklearn.model_selection import train_test_split\n"
   ]
  },
  {
   "cell_type": "code",
   "execution_count": null,
   "metadata": {},
   "outputs": [],
   "source": [
    "# Preparing data to use for liner regression \n",
    "\n",
    "file_startups, file_salary = r\"data\\winequality-red.csv\"\n",
    "df_startups, df_salary = pd.read_csv(file_startups), pd.read_csv(file_salary)\n",
    "\n",
    "df_startups = pd.get_dummies(df_startups, columns = ['State'], dtype=int) \n",
    "X_startups = np.array(df_startups[[\"R&D Spend\", \"Administration\", \"Marketing Spend\", \"State_California\", \"State_Florida\", \"State_New York\"]])\n",
    "Y_startups = np.array(df_startups[[\"Profit\"]])\n",
    "\n",
    "X_salary = np.array(df_salary[[\"YearsExperience\"]])\n",
    "Y_salary = np.array(df_salary[[\"Salary\"]])\n",
    "\n",
    "\n",
    "# Implementing simple regression model for startups.csv and salary.csv\n",
    "\n",
    "X_startups_train, X_startups_test, Y_startups_train, Y_startups_test = train_test_split(X_startups, Y_startups, test_size=0.2, random_state=5)\n",
    "X_salary_train, X_salary_test, Y_salary_train, Y_salary_test = train_test_split(X_salary, Y_salary, test_size=0.2, random_state=5)\n",
    "\n",
    "reg_startups = linear_model.LinearRegression()\n",
    "reg_salary = linear_model.LinearRegression()\n",
    "\n",
    "reg_startups.fit(X_startups_train, Y_startups_train)\n",
    "print(f\"Score of startups linear regression: \\t{reg_startups.score(X_startups_test, Y_startups_test)}\")\n",
    "\n",
    "reg_salary.fit(X_salary_train, Y_salary_train)\n",
    "print(f\"Score of salary linear regression: \\t{reg_salary.score(X_salary_test, Y_salary_test)}\")\n",
    "\n",
    "\n",
    "# Plotting X_test vs Y_test and Y_predict for visualization\n",
    "\n",
    "Y_salary_predict = reg_salary.predict(X_salary_test)\n",
    "plt.scatter(X_salary_test, Y_salary_test, color='blue', marker='.')\n",
    "plt.scatter(X_salary_test, Y_salary_predict, color='red', marker='.')\n",
    "plt.xlabel(\"Years of Experience\")\n",
    "plt.ylabel(\"Salary\")\n",
    "plt.title(\"Actual Data (blue) vs Predicted Data (red)\")\n",
    "plt.show()\n",
    "\n",
    "\n",
    "# Calculating RSS and R2 score\n",
    "\n",
    "rss, tss, mean_Y_salary_test = 0, 0, np.mean(Y_salary_test)\n",
    "\n",
    "for i in range(len(Y_salary_test)):\n",
    "    rss += (int(Y_salary_predict[i]) - int(Y_salary_test[i]))**2\n",
    "    tss += (int(Y_salary_test[i]) - mean_Y_salary_test)**2\n",
    "\n",
    "print(f\"R2 Score: \\t{1-(rss/tss)}\")\n",
    "\n"
   ]
  }
 ],
 "metadata": {
  "kernelspec": {
   "display_name": "Python 3",
   "language": "python",
   "name": "python3"
  },
  "language_info": {
   "codemirror_mode": {
    "name": "ipython",
    "version": 3
   },
   "file_extension": ".py",
   "mimetype": "text/x-python",
   "name": "python",
   "nbconvert_exporter": "python",
   "pygments_lexer": "ipython3",
   "version": "3.12.0"
  }
 },
 "nbformat": 4,
 "nbformat_minor": 2
}
